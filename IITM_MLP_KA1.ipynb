{
  "metadata": {
    "kernelspec": {
      "language": "python",
      "display_name": "Python 3",
      "name": "python3"
    },
    "language_info": {
      "name": "python",
      "version": "3.11.11",
      "mimetype": "text/x-python",
      "codemirror_mode": {
        "name": "ipython",
        "version": 3
      },
      "pygments_lexer": "ipython3",
      "nbconvert_exporter": "python",
      "file_extension": ".py"
    },
    "kaggle": {
      "accelerator": "none",
      "dataSources": [
        {
          "sourceId": 105665,
          "databundleVersionId": 12770423,
          "sourceType": "competition"
        }
      ],
      "dockerImageVersionId": 31040,
      "isInternetEnabled": true,
      "language": "python",
      "sourceType": "notebook",
      "isGpuEnabled": false
    },
    "colab": {
      "name": "IITM_MLP_KA1",
      "provenance": [],
      "include_colab_link": true
    }
  },
  "nbformat_minor": 0,
  "nbformat": 4,
  "cells": [
    {
      "cell_type": "markdown",
      "metadata": {
        "id": "view-in-github",
        "colab_type": "text"
      },
      "source": [
        "<a href=\"https://colab.research.google.com/github/AfsarAI/ML-Assignment-1/blob/main/IITM_MLP_KA1.ipynb\" target=\"_parent\"><img src=\"https://colab.research.google.com/assets/colab-badge.svg\" alt=\"Open In Colab\"/></a>"
      ]
    },
    {
      "source": [
        "# IMPORTANT: SOME KAGGLE DATA SOURCES ARE PRIVATE\n",
        "# RUN THIS CELL IN ORDER TO IMPORT YOUR KAGGLE DATA SOURCES.\n",
        "import kagglehub\n",
        "kagglehub.login()\n"
      ],
      "metadata": {
        "id": "VVXQraFzmT3w"
      },
      "cell_type": "code",
      "outputs": [],
      "execution_count": null
    },
    {
      "source": [
        "# IMPORTANT: RUN THIS CELL IN ORDER TO IMPORT YOUR KAGGLE DATA SOURCES,\n",
        "# THEN FEEL FREE TO DELETE THIS CELL.\n",
        "# NOTE: THIS NOTEBOOK ENVIRONMENT DIFFERS FROM KAGGLE'S PYTHON\n",
        "# ENVIRONMENT SO THERE MAY BE MISSING LIBRARIES USED BY YOUR\n",
        "# NOTEBOOK.\n",
        "\n",
        "mlp_term_2_2025_kaggle_assignment_1_path = kagglehub.competition_download('mlp-term-2-2025-kaggle-assignment-1')\n",
        "\n",
        "print('Data source import complete.')\n"
      ],
      "metadata": {
        "id": "JX9InlDpmT31"
      },
      "cell_type": "code",
      "outputs": [],
      "execution_count": null
    },
    {
      "cell_type": "code",
      "source": [
        "# This Python 3 environment comes with many helpful analytics libraries installed\n",
        "# It is defined by the kaggle/python Docker image: https://github.com/kaggle/docker-python\n",
        "# For example, here's several helpful packages to load\n",
        "\n",
        "import numpy as np # linear algebra\n",
        "import pandas as pd # data processing, CSV file I/O (e.g. pd.read_csv)\n",
        "\n",
        "# Input data files are available in the read-only \"../input/\" directory\n",
        "# For example, running this (by clicking run or pressing Shift+Enter) will list all files under the input directory\n",
        "\n",
        "import os\n",
        "for dirname, _, filenames in os.walk('/kaggle/input'):\n",
        "    for filename in filenames:\n",
        "        print(os.path.join(dirname, filename))\n",
        "\n",
        "# You can write up to 20GB to the current directory (/kaggle/working/) that gets preserved as output when you create a version using \"Save & Run All\"\n",
        "# You can also write temporary files to /kaggle/temp/, but they won't be saved outside of the current session"
      ],
      "metadata": {
        "_uuid": "1ed6d464-c8a9-4baa-bdaf-9b0b297993fd",
        "_cell_guid": "779e42cd-d28d-44af-8738-37e41279076d",
        "trusted": true,
        "execution": {
          "iopub.status.busy": "2025-07-02T17:19:11.069372Z",
          "iopub.execute_input": "2025-07-02T17:19:11.069774Z",
          "iopub.status.idle": "2025-07-02T17:19:11.406857Z",
          "shell.execute_reply.started": "2025-07-02T17:19:11.069747Z",
          "shell.execute_reply": "2025-07-02T17:19:11.405876Z"
        },
        "jupyter": {
          "outputs_hidden": false
        },
        "id": "kp-lvrkCmT33"
      },
      "outputs": [],
      "execution_count": null
    },
    {
      "cell_type": "markdown",
      "source": [
        "# Loading Datasets"
      ],
      "metadata": {
        "_uuid": "d40ecf81-8a36-43df-8cce-dcd06c7e136d",
        "_cell_guid": "c40ebbaa-e82d-4ef3-9fa3-84799843fb35",
        "trusted": true,
        "collapsed": false,
        "jupyter": {
          "outputs_hidden": false
        },
        "id": "DT_iqKxVmT34"
      }
    },
    {
      "cell_type": "code",
      "source": [
        "import numpy as np\n",
        "import pandas as pd"
      ],
      "metadata": {
        "_uuid": "e96bf223-0894-409f-985e-92d5c448a810",
        "_cell_guid": "caf4f833-bc58-4a19-a769-daa706d6dd3c",
        "trusted": true,
        "execution": {
          "iopub.status.busy": "2025-07-02T17:19:11.408157Z",
          "iopub.execute_input": "2025-07-02T17:19:11.408548Z",
          "iopub.status.idle": "2025-07-02T17:19:11.412631Z",
          "shell.execute_reply.started": "2025-07-02T17:19:11.408523Z",
          "shell.execute_reply": "2025-07-02T17:19:11.411792Z"
        },
        "jupyter": {
          "outputs_hidden": false
        },
        "id": "CWUsUwGImT37"
      },
      "outputs": [],
      "execution_count": null
    },
    {
      "cell_type": "code",
      "source": [
        "test_df = pd.read_csv('/kaggle/input/mlp-term-2-2025-kaggle-assignment-1/test.csv')\n",
        "train_df = pd.read_csv('/kaggle/input/mlp-term-2-2025-kaggle-assignment-1/train.csv')"
      ],
      "metadata": {
        "trusted": true,
        "execution": {
          "iopub.status.busy": "2025-07-02T17:19:11.413546Z",
          "iopub.execute_input": "2025-07-02T17:19:11.414488Z",
          "iopub.status.idle": "2025-07-02T17:19:11.577435Z",
          "shell.execute_reply.started": "2025-07-02T17:19:11.414457Z",
          "shell.execute_reply": "2025-07-02T17:19:11.576449Z"
        },
        "id": "_SgMCTl7mT38"
      },
      "outputs": [],
      "execution_count": null
    },
    {
      "cell_type": "code",
      "source": [
        "train_df.head()"
      ],
      "metadata": {
        "_uuid": "ff5d436b-9a71-4a51-8663-27854de604e5",
        "_cell_guid": "61ff6b71-64b7-4d4d-83a9-56c40952217e",
        "trusted": true,
        "execution": {
          "iopub.status.busy": "2025-07-02T17:19:11.5798Z",
          "iopub.execute_input": "2025-07-02T17:19:11.58044Z",
          "iopub.status.idle": "2025-07-02T17:19:11.61195Z",
          "shell.execute_reply.started": "2025-07-02T17:19:11.580397Z",
          "shell.execute_reply": "2025-07-02T17:19:11.611144Z"
        },
        "jupyter": {
          "outputs_hidden": false
        },
        "id": "q-amMCyZmT39"
      },
      "outputs": [],
      "execution_count": null
    },
    {
      "cell_type": "code",
      "source": [
        "test_df.head()"
      ],
      "metadata": {
        "trusted": true,
        "execution": {
          "iopub.status.busy": "2025-07-02T17:19:11.612946Z",
          "iopub.execute_input": "2025-07-02T17:19:11.613901Z",
          "iopub.status.idle": "2025-07-02T17:19:11.628049Z",
          "shell.execute_reply.started": "2025-07-02T17:19:11.613875Z",
          "shell.execute_reply": "2025-07-02T17:19:11.627126Z"
        },
        "id": "e_5JK9QRmT3-"
      },
      "outputs": [],
      "execution_count": null
    },
    {
      "cell_type": "markdown",
      "source": [
        "# Identifing data types of different columns"
      ],
      "metadata": {
        "id": "QCtuTRIKmT3_"
      }
    },
    {
      "cell_type": "code",
      "source": [
        "train_df.shape"
      ],
      "metadata": {
        "trusted": true,
        "execution": {
          "iopub.status.busy": "2025-07-02T17:19:11.628971Z",
          "iopub.execute_input": "2025-07-02T17:19:11.629292Z",
          "iopub.status.idle": "2025-07-02T17:19:11.643798Z",
          "shell.execute_reply.started": "2025-07-02T17:19:11.629252Z",
          "shell.execute_reply": "2025-07-02T17:19:11.642851Z"
        },
        "id": "u3elE4jOmT4A"
      },
      "outputs": [],
      "execution_count": null
    },
    {
      "cell_type": "code",
      "source": [
        "train_df.info()"
      ],
      "metadata": {
        "_uuid": "1376f132-dfc4-4e5b-bbc7-8962f480cc6e",
        "_cell_guid": "5a314593-f132-47e5-a4c0-39920d52b3e3",
        "trusted": true,
        "execution": {
          "iopub.status.busy": "2025-07-02T17:19:11.644709Z",
          "iopub.execute_input": "2025-07-02T17:19:11.645038Z",
          "iopub.status.idle": "2025-07-02T17:19:11.697203Z",
          "shell.execute_reply.started": "2025-07-02T17:19:11.645007Z",
          "shell.execute_reply": "2025-07-02T17:19:11.696379Z"
        },
        "jupyter": {
          "outputs_hidden": false
        },
        "id": "492F6Qe8mT4B"
      },
      "outputs": [],
      "execution_count": null
    },
    {
      "cell_type": "code",
      "source": [
        "test_df.info()"
      ],
      "metadata": {
        "trusted": true,
        "execution": {
          "iopub.status.busy": "2025-07-02T17:19:11.698108Z",
          "iopub.execute_input": "2025-07-02T17:19:11.698377Z",
          "iopub.status.idle": "2025-07-02T17:19:11.713319Z",
          "shell.execute_reply.started": "2025-07-02T17:19:11.698344Z",
          "shell.execute_reply": "2025-07-02T17:19:11.712349Z"
        },
        "id": "a8lgun1ImT4C"
      },
      "outputs": [],
      "execution_count": null
    },
    {
      "cell_type": "markdown",
      "source": [
        "# Descriptive statistics of numerical columns"
      ],
      "metadata": {
        "id": "8ntkuVawmT4C"
      }
    },
    {
      "cell_type": "code",
      "source": [
        "train_df.loc[:, ['duration', 'days_left']].describe().T"
      ],
      "metadata": {
        "_uuid": "b6f223cb-61ea-4882-9af2-942950c1f156",
        "_cell_guid": "6de18538-8bb5-42f0-b7b6-745f29493d83",
        "trusted": true,
        "jupyter": {
          "outputs_hidden": false
        },
        "execution": {
          "iopub.status.busy": "2025-07-02T17:19:11.714256Z",
          "iopub.execute_input": "2025-07-02T17:19:11.714577Z",
          "iopub.status.idle": "2025-07-02T17:19:11.750916Z",
          "shell.execute_reply.started": "2025-07-02T17:19:11.714545Z",
          "shell.execute_reply": "2025-07-02T17:19:11.75013Z"
        },
        "id": "Ei37hOYgmT4D"
      },
      "outputs": [],
      "execution_count": null
    },
    {
      "cell_type": "code",
      "source": [
        "test_df.loc[:, ['duration', 'days_left']].describe().T"
      ],
      "metadata": {
        "trusted": true,
        "execution": {
          "iopub.status.busy": "2025-07-02T17:19:11.753955Z",
          "iopub.execute_input": "2025-07-02T17:19:11.754248Z",
          "iopub.status.idle": "2025-07-02T17:19:11.779233Z",
          "shell.execute_reply.started": "2025-07-02T17:19:11.754224Z",
          "shell.execute_reply": "2025-07-02T17:19:11.778257Z"
        },
        "id": "ZGCA2MzUmT4D"
      },
      "outputs": [],
      "execution_count": null
    },
    {
      "cell_type": "markdown",
      "source": [
        "# Identifying and handling the missing values"
      ],
      "metadata": {
        "id": "4yIGbU5LmT4E"
      }
    },
    {
      "cell_type": "code",
      "source": [
        "train_df.isna().sum()"
      ],
      "metadata": {
        "trusted": true,
        "execution": {
          "iopub.status.busy": "2025-07-02T17:19:11.780071Z",
          "iopub.execute_input": "2025-07-02T17:19:11.780356Z",
          "iopub.status.idle": "2025-07-02T17:19:11.806982Z",
          "shell.execute_reply.started": "2025-07-02T17:19:11.780333Z",
          "shell.execute_reply": "2025-07-02T17:19:11.805987Z"
        },
        "id": "8kODAv6NmT4E"
      },
      "outputs": [],
      "execution_count": null
    },
    {
      "cell_type": "code",
      "source": [
        "test_df.isnull().sum()"
      ],
      "metadata": {
        "trusted": true,
        "execution": {
          "iopub.status.busy": "2025-07-02T17:19:11.808067Z",
          "iopub.execute_input": "2025-07-02T17:19:11.808457Z",
          "iopub.status.idle": "2025-07-02T17:19:11.820988Z",
          "shell.execute_reply.started": "2025-07-02T17:19:11.808427Z",
          "shell.execute_reply": "2025-07-02T17:19:11.820136Z"
        },
        "id": "zq1d6epEmT4E"
      },
      "outputs": [],
      "execution_count": null
    },
    {
      "cell_type": "code",
      "source": [
        "cat = ['airline', 'departure', 'stops']\n",
        "num = ['duration', 'days_left']"
      ],
      "metadata": {
        "trusted": true,
        "execution": {
          "iopub.status.busy": "2025-07-02T17:19:11.822232Z",
          "iopub.execute_input": "2025-07-02T17:19:11.822565Z",
          "iopub.status.idle": "2025-07-02T17:19:11.840543Z",
          "shell.execute_reply.started": "2025-07-02T17:19:11.822537Z",
          "shell.execute_reply": "2025-07-02T17:19:11.839377Z"
        },
        "id": "XxXQcuv0mT4E"
      },
      "outputs": [],
      "execution_count": null
    },
    {
      "cell_type": "code",
      "source": [
        "from sklearn.compose import ColumnTransformer\n",
        "from sklearn.pipeline import Pipeline\n",
        "from sklearn.impute import SimpleImputer"
      ],
      "metadata": {
        "trusted": true,
        "execution": {
          "iopub.status.busy": "2025-07-02T17:19:11.841477Z",
          "iopub.execute_input": "2025-07-02T17:19:11.841729Z",
          "iopub.status.idle": "2025-07-02T17:19:12.833022Z",
          "shell.execute_reply.started": "2025-07-02T17:19:11.841709Z",
          "shell.execute_reply": "2025-07-02T17:19:12.832123Z"
        },
        "id": "77p9AwmOmT4F"
      },
      "outputs": [],
      "execution_count": null
    },
    {
      "cell_type": "code",
      "source": [
        "ct = ColumnTransformer(\n",
        "    transformers=[\n",
        "        ('cat', SimpleImputer(strategy='most_frequent'), cat),\n",
        "        ('num', SimpleImputer(strategy='mean'), num)\n",
        "    ],\n",
        "    remainder='passthrough',\n",
        "    verbose_feature_names_out=False\n",
        ").set_output(transform='pandas')"
      ],
      "metadata": {
        "trusted": true,
        "execution": {
          "iopub.status.busy": "2025-07-02T17:19:12.834447Z",
          "iopub.execute_input": "2025-07-02T17:19:12.834891Z",
          "iopub.status.idle": "2025-07-02T17:19:12.839592Z",
          "shell.execute_reply.started": "2025-07-02T17:19:12.834859Z",
          "shell.execute_reply": "2025-07-02T17:19:12.838813Z"
        },
        "id": "5sEX7wNhmT4F"
      },
      "outputs": [],
      "execution_count": null
    },
    {
      "cell_type": "code",
      "source": [
        "pipe = Pipeline([\n",
        "    ('ct', ct)\n",
        "])"
      ],
      "metadata": {
        "trusted": true,
        "execution": {
          "iopub.status.busy": "2025-07-02T17:19:12.84041Z",
          "iopub.execute_input": "2025-07-02T17:19:12.840643Z",
          "iopub.status.idle": "2025-07-02T17:19:12.857565Z",
          "shell.execute_reply.started": "2025-07-02T17:19:12.840624Z",
          "shell.execute_reply": "2025-07-02T17:19:12.856738Z"
        },
        "id": "yw_v-iI5mT4F"
      },
      "outputs": [],
      "execution_count": null
    },
    {
      "cell_type": "code",
      "source": [
        "X_train = train_df.drop(columns=['price'])\n",
        "y_train = train_df['price']"
      ],
      "metadata": {
        "trusted": true,
        "execution": {
          "iopub.status.busy": "2025-07-02T17:19:12.858531Z",
          "iopub.execute_input": "2025-07-02T17:19:12.85884Z",
          "iopub.status.idle": "2025-07-02T17:19:12.878742Z",
          "shell.execute_reply.started": "2025-07-02T17:19:12.858811Z",
          "shell.execute_reply": "2025-07-02T17:19:12.877926Z"
        },
        "id": "yyWbfeELmT4G"
      },
      "outputs": [],
      "execution_count": null
    },
    {
      "cell_type": "code",
      "source": [
        "train_df_t = pipe.fit_transform(X_train)"
      ],
      "metadata": {
        "trusted": true,
        "execution": {
          "iopub.status.busy": "2025-07-02T17:19:12.879752Z",
          "iopub.execute_input": "2025-07-02T17:19:12.880057Z",
          "iopub.status.idle": "2025-07-02T17:19:12.934236Z",
          "shell.execute_reply.started": "2025-07-02T17:19:12.88003Z",
          "shell.execute_reply": "2025-07-02T17:19:12.933339Z"
        },
        "id": "QD2kTfTLmT4G"
      },
      "outputs": [],
      "execution_count": null
    },
    {
      "cell_type": "code",
      "source": [
        "test_df_t = pipe.transform(test_df)"
      ],
      "metadata": {
        "trusted": true,
        "execution": {
          "iopub.status.busy": "2025-07-02T17:19:12.935195Z",
          "iopub.execute_input": "2025-07-02T17:19:12.935429Z",
          "iopub.status.idle": "2025-07-02T17:19:12.948866Z",
          "shell.execute_reply.started": "2025-07-02T17:19:12.93541Z",
          "shell.execute_reply": "2025-07-02T17:19:12.948062Z"
        },
        "id": "_K7qj8gamT4G"
      },
      "outputs": [],
      "execution_count": null
    },
    {
      "cell_type": "markdown",
      "source": [
        "## Just for showing all imutations"
      ],
      "metadata": {
        "id": "RLXhdjQ3mT4H"
      }
    },
    {
      "cell_type": "code",
      "source": [
        "original_order = X_train.columns\n",
        "train_df_t.reindex(columns=original_order)"
      ],
      "metadata": {
        "execution": {
          "iopub.status.busy": "2025-07-02T17:19:12.949815Z",
          "iopub.execute_input": "2025-07-02T17:19:12.950199Z",
          "iopub.status.idle": "2025-07-02T17:19:12.971814Z",
          "shell.execute_reply.started": "2025-07-02T17:19:12.950169Z",
          "shell.execute_reply": "2025-07-02T17:19:12.971129Z"
        },
        "trusted": true,
        "id": "W2uPX07dmT4H"
      },
      "outputs": [],
      "execution_count": null
    },
    {
      "cell_type": "code",
      "source": [
        "original_order = test_df.columns\n",
        "test_df_t.reindex(columns=original_order)"
      ],
      "metadata": {
        "trusted": true,
        "execution": {
          "iopub.status.busy": "2025-07-02T17:19:12.972668Z",
          "iopub.execute_input": "2025-07-02T17:19:12.97288Z",
          "iopub.status.idle": "2025-07-02T17:19:12.989006Z",
          "shell.execute_reply.started": "2025-07-02T17:19:12.972863Z",
          "shell.execute_reply": "2025-07-02T17:19:12.988172Z"
        },
        "id": "dlnbdinmmT4H"
      },
      "outputs": [],
      "execution_count": null
    },
    {
      "cell_type": "markdown",
      "source": [
        "# Identifying Duplicates"
      ],
      "metadata": {
        "id": "CpuvluQ4mT4I"
      }
    },
    {
      "cell_type": "code",
      "source": [
        "# Check total duplicates in train dataset\n",
        "duplicate_rows = train_df_t[train_df_t.duplicated()]\n",
        "print(\"Duplicate Rows:\", duplicate_rows.shape[0])"
      ],
      "metadata": {
        "trusted": true,
        "execution": {
          "iopub.status.busy": "2025-07-02T17:19:12.989869Z",
          "iopub.execute_input": "2025-07-02T17:19:12.990185Z",
          "iopub.status.idle": "2025-07-02T17:19:13.032417Z",
          "shell.execute_reply.started": "2025-07-02T17:19:12.990153Z",
          "shell.execute_reply": "2025-07-02T17:19:13.031552Z"
        },
        "id": "5RQRKm6VmT4I"
      },
      "outputs": [],
      "execution_count": null
    },
    {
      "cell_type": "code",
      "source": [
        "# Check total duplicates in test dataset\n",
        "duplicate_rows = test_df_t[test_df_t.duplicated()]\n",
        "print(\"Duplicate Rows:\", duplicate_rows.shape[0])"
      ],
      "metadata": {
        "trusted": true,
        "execution": {
          "iopub.status.busy": "2025-07-02T17:19:13.033289Z",
          "iopub.execute_input": "2025-07-02T17:19:13.033535Z",
          "iopub.status.idle": "2025-07-02T17:19:13.04603Z",
          "shell.execute_reply.started": "2025-07-02T17:19:13.033514Z",
          "shell.execute_reply": "2025-07-02T17:19:13.045185Z"
        },
        "id": "dpDO4KFCmT4I"
      },
      "outputs": [],
      "execution_count": null
    },
    {
      "cell_type": "markdown",
      "source": [
        "# Identifying and handling outliers"
      ],
      "metadata": {
        "id": "bvcVKCQ6mT4J"
      }
    },
    {
      "cell_type": "code",
      "source": [
        "import seaborn as sns\n",
        "import matplotlib.pyplot as plt"
      ],
      "metadata": {
        "trusted": true,
        "execution": {
          "iopub.status.busy": "2025-07-02T17:19:13.047142Z",
          "iopub.execute_input": "2025-07-02T17:19:13.047471Z",
          "iopub.status.idle": "2025-07-02T17:19:13.518417Z",
          "shell.execute_reply.started": "2025-07-02T17:19:13.04744Z",
          "shell.execute_reply": "2025-07-02T17:19:13.517579Z"
        },
        "id": "oLwYQ7AWmT4K"
      },
      "outputs": [],
      "execution_count": null
    },
    {
      "cell_type": "markdown",
      "source": [
        "### Train Dataset"
      ],
      "metadata": {
        "id": "JlJLgmbymT4K"
      }
    },
    {
      "cell_type": "code",
      "source": [
        "numerical_cols = train_df_t.select_dtypes(include=['int64', 'float64'])\n",
        "\n",
        "for col in numerical_cols:\n",
        "    plt.figure(figsize=(6, 1))\n",
        "    sns.boxplot(x=train_df_t[col])\n",
        "    plt.title(f'Outliers in {col}')\n",
        "    plt.show()"
      ],
      "metadata": {
        "trusted": true,
        "execution": {
          "iopub.status.busy": "2025-07-02T17:19:13.519354Z",
          "iopub.execute_input": "2025-07-02T17:19:13.519768Z",
          "iopub.status.idle": "2025-07-02T17:19:13.894787Z",
          "shell.execute_reply.started": "2025-07-02T17:19:13.51974Z",
          "shell.execute_reply": "2025-07-02T17:19:13.893871Z"
        },
        "id": "6FlvRA6umT4K"
      },
      "outputs": [],
      "execution_count": null
    },
    {
      "cell_type": "code",
      "source": [
        "Q1 = train_df_t['duration'].quantile(0.25)\n",
        "Q3 = train_df_t['duration'].quantile(0.75)\n",
        "IQR = Q3 - Q1\n",
        "lower = Q1 - 1.5 * IQR\n",
        "upper = Q3 + 1.5 * IQR\n",
        "\n",
        "outliers = train_df_t[(train_df_t['duration'] < lower) | (train_df_t['duration'] > upper)]\n",
        "print(\"Outliers:\", outliers.shape[0])\n",
        "print(\"Total:\", train_df_t.shape[0])\n",
        "print(f\"{(outliers.shape[0]/train_df_t.shape[0])*100} %\")"
      ],
      "metadata": {
        "trusted": true,
        "execution": {
          "iopub.status.busy": "2025-07-02T17:19:13.895753Z",
          "iopub.execute_input": "2025-07-02T17:19:13.896112Z",
          "iopub.status.idle": "2025-07-02T17:19:13.907444Z",
          "shell.execute_reply.started": "2025-07-02T17:19:13.896061Z",
          "shell.execute_reply": "2025-07-02T17:19:13.906615Z"
        },
        "id": "wrVyhpYrmT4L"
      },
      "outputs": [],
      "execution_count": null
    },
    {
      "cell_type": "code",
      "source": [
        "def cap_outliers_iqr(df, col):\n",
        "    Q1 = df[col].quantile(0.25)\n",
        "    Q3 = df[col].quantile(0.75)\n",
        "    IQR = Q3 - Q1\n",
        "    lower = Q1 - 1.5 * IQR\n",
        "    upper = Q3 + 1.5 * IQR\n",
        "    df[col] = np.where(df[col] > upper, upper,\n",
        "                np.where(df[col] < lower, lower, df[col]))\n",
        "    print('Capped')\n",
        "    return df\n",
        "\n",
        "train_df_t = cap_outliers_iqr(train_df_t, 'duration')"
      ],
      "metadata": {
        "trusted": true,
        "execution": {
          "iopub.status.busy": "2025-07-02T17:19:13.908344Z",
          "iopub.execute_input": "2025-07-02T17:19:13.908621Z",
          "iopub.status.idle": "2025-07-02T17:19:13.923365Z",
          "shell.execute_reply.started": "2025-07-02T17:19:13.908594Z",
          "shell.execute_reply": "2025-07-02T17:19:13.9225Z"
        },
        "id": "F1ddgbKCmT4L"
      },
      "outputs": [],
      "execution_count": null
    },
    {
      "cell_type": "code",
      "source": [
        "sns.boxplot(x=train_df_t['duration'])\n",
        "plt.title(\"Outliers in Duration\")\n",
        "plt.show()"
      ],
      "metadata": {
        "trusted": true,
        "execution": {
          "iopub.status.busy": "2025-07-02T17:19:13.928138Z",
          "iopub.execute_input": "2025-07-02T17:19:13.9285Z",
          "iopub.status.idle": "2025-07-02T17:19:14.036193Z",
          "shell.execute_reply.started": "2025-07-02T17:19:13.928478Z",
          "shell.execute_reply": "2025-07-02T17:19:14.035252Z"
        },
        "id": "77L-KIDDmT4L"
      },
      "outputs": [],
      "execution_count": null
    },
    {
      "cell_type": "markdown",
      "source": [
        "### Test Dataset"
      ],
      "metadata": {
        "id": "xxb8AtjjmT4M"
      }
    },
    {
      "cell_type": "code",
      "source": [
        "numerical_cols = test_df_t.select_dtypes(include=['int64', 'float64'])\n",
        "\n",
        "for col in numerical_cols:\n",
        "    plt.figure(figsize=(6, 1))\n",
        "    sns.boxplot(x=test_df_t[col])\n",
        "    plt.title(f'Outliers in {col}')\n",
        "    plt.show()"
      ],
      "metadata": {
        "trusted": true,
        "execution": {
          "iopub.status.busy": "2025-07-02T17:19:14.037244Z",
          "iopub.execute_input": "2025-07-02T17:19:14.038219Z",
          "iopub.status.idle": "2025-07-02T17:19:14.353649Z",
          "shell.execute_reply.started": "2025-07-02T17:19:14.038178Z",
          "shell.execute_reply": "2025-07-02T17:19:14.352826Z"
        },
        "id": "excmR9g-mT4T"
      },
      "outputs": [],
      "execution_count": null
    },
    {
      "cell_type": "code",
      "source": [
        "Q1 = test_df_t['duration'].quantile(0.25)\n",
        "Q3 = test_df_t['duration'].quantile(0.75)\n",
        "IQR = Q3 - Q1\n",
        "lower = Q1 - 1.5 * IQR\n",
        "upper = Q3 + 1.5 * IQR\n",
        "\n",
        "outliers = test_df_t[(test_df_t['duration'] < lower) | (test_df_t['duration'] > upper)]\n",
        "print(\"Outliers:\", outliers.shape[0])\n",
        "print(\"Total:\", test_df_t.shape[0])\n",
        "print(f\"{(outliers.shape[0]/test_df_t.shape[0])*100} %\")"
      ],
      "metadata": {
        "trusted": true,
        "execution": {
          "iopub.status.busy": "2025-07-02T17:19:14.354529Z",
          "iopub.execute_input": "2025-07-02T17:19:14.354832Z",
          "iopub.status.idle": "2025-07-02T17:19:14.364445Z",
          "shell.execute_reply.started": "2025-07-02T17:19:14.354808Z",
          "shell.execute_reply": "2025-07-02T17:19:14.363713Z"
        },
        "id": "wIkj-Zn9mT4U"
      },
      "outputs": [],
      "execution_count": null
    },
    {
      "cell_type": "code",
      "source": [
        "def cap_outliers_iqr(df, col):\n",
        "    Q1 = df[col].quantile(0.25)\n",
        "    Q3 = df[col].quantile(0.75)\n",
        "    IQR = Q3 - Q1\n",
        "    lower = Q1 - 1.5 * IQR\n",
        "    upper = Q3 + 1.5 * IQR\n",
        "    df[col] = np.where(df[col] > upper, upper,\n",
        "                np.where(df[col] < lower, lower, df[col]))\n",
        "    print('Capped')\n",
        "    return df\n",
        "\n",
        "test_df_t = cap_outliers_iqr(test_df_t, 'duration')"
      ],
      "metadata": {
        "trusted": true,
        "execution": {
          "iopub.status.busy": "2025-07-02T17:19:14.365341Z",
          "iopub.execute_input": "2025-07-02T17:19:14.365607Z",
          "iopub.status.idle": "2025-07-02T17:19:14.383785Z",
          "shell.execute_reply.started": "2025-07-02T17:19:14.365587Z",
          "shell.execute_reply": "2025-07-02T17:19:14.382795Z"
        },
        "id": "r3gpZMbNmT4U"
      },
      "outputs": [],
      "execution_count": null
    },
    {
      "cell_type": "code",
      "source": [
        "sns.boxplot(x=test_df_t['duration'])\n",
        "plt.title(\"Outliers in Duration\")\n",
        "plt.show()"
      ],
      "metadata": {
        "trusted": true,
        "execution": {
          "iopub.status.busy": "2025-07-02T17:19:14.384771Z",
          "iopub.execute_input": "2025-07-02T17:19:14.385046Z",
          "iopub.status.idle": "2025-07-02T17:19:14.500901Z",
          "shell.execute_reply.started": "2025-07-02T17:19:14.385013Z",
          "shell.execute_reply": "2025-07-02T17:19:14.500105Z"
        },
        "id": "QuBYmjOqmT4U"
      },
      "outputs": [],
      "execution_count": null
    },
    {
      "cell_type": "markdown",
      "source": [
        "### Outliers checking in Target"
      ],
      "metadata": {
        "id": "MpYvAblomT4V"
      }
    },
    {
      "cell_type": "code",
      "source": [
        "sns.boxplot(x=y_train)\n",
        "plt.title(\"Outliers in Price\")\n",
        "plt.show()"
      ],
      "metadata": {
        "trusted": true,
        "execution": {
          "iopub.status.busy": "2025-07-02T17:19:14.501771Z",
          "iopub.execute_input": "2025-07-02T17:19:14.502034Z",
          "iopub.status.idle": "2025-07-02T17:19:14.615393Z",
          "shell.execute_reply.started": "2025-07-02T17:19:14.502012Z",
          "shell.execute_reply": "2025-07-02T17:19:14.614574Z"
        },
        "id": "VydUiJT7mT4V"
      },
      "outputs": [],
      "execution_count": null
    },
    {
      "cell_type": "code",
      "source": [
        "sns.histplot(y_train, kde=True)\n",
        "plt.title(\"Before Log Transform\")\n",
        "plt.show()\n",
        "\n",
        "print(\"Skewness:\", y_train.skew())"
      ],
      "metadata": {
        "trusted": true,
        "execution": {
          "iopub.status.busy": "2025-07-02T17:19:14.616328Z",
          "iopub.execute_input": "2025-07-02T17:19:14.616647Z",
          "iopub.status.idle": "2025-07-02T17:19:15.079339Z",
          "shell.execute_reply.started": "2025-07-02T17:19:14.616616Z",
          "shell.execute_reply": "2025-07-02T17:19:15.078479Z"
        },
        "id": "fzgw7CGzmT4V"
      },
      "outputs": [],
      "execution_count": null
    },
    {
      "cell_type": "code",
      "source": [
        "y_train = np.log1p(y_train)  # log(1 + Price)"
      ],
      "metadata": {
        "trusted": true,
        "execution": {
          "iopub.status.busy": "2025-07-02T17:19:15.080283Z",
          "iopub.execute_input": "2025-07-02T17:19:15.080786Z",
          "iopub.status.idle": "2025-07-02T17:19:15.093618Z",
          "shell.execute_reply.started": "2025-07-02T17:19:15.080762Z",
          "shell.execute_reply": "2025-07-02T17:19:15.092666Z"
        },
        "id": "9WhPIl2WmT4W"
      },
      "outputs": [],
      "execution_count": null
    },
    {
      "cell_type": "code",
      "source": [
        "X = train_df_t\n",
        "y = y_train\n",
        "print(X, y)"
      ],
      "metadata": {
        "trusted": true,
        "execution": {
          "iopub.status.busy": "2025-07-02T17:19:15.094689Z",
          "iopub.execute_input": "2025-07-02T17:19:15.095048Z",
          "iopub.status.idle": "2025-07-02T17:19:15.106312Z",
          "shell.execute_reply.started": "2025-07-02T17:19:15.095012Z",
          "shell.execute_reply": "2025-07-02T17:19:15.105411Z"
        },
        "id": "Q_V7gjwSmT4W"
      },
      "outputs": [],
      "execution_count": null
    },
    {
      "cell_type": "markdown",
      "source": [
        "# Visualizations and Graphs with main data set"
      ],
      "metadata": {
        "id": "5_Uv_EvKmT4W"
      }
    },
    {
      "cell_type": "code",
      "source": [
        "avg_price_by_source = train_df.groupby('source')['price'].mean().sort_values()\n",
        "avg_price_by_source.plot(kind='bar', color='skyblue')\n",
        "plt.title(\"Average Price by Source City\")\n",
        "plt.ylabel(\"Average Ticket Price\")\n",
        "plt.xlabel(\"Source\")\n",
        "plt.show()"
      ],
      "metadata": {
        "trusted": true,
        "execution": {
          "iopub.status.busy": "2025-07-02T17:19:15.107278Z",
          "iopub.execute_input": "2025-07-02T17:19:15.107555Z",
          "iopub.status.idle": "2025-07-02T17:19:15.342432Z",
          "shell.execute_reply.started": "2025-07-02T17:19:15.107527Z",
          "shell.execute_reply": "2025-07-02T17:19:15.341455Z"
        },
        "id": "q7MbUG_7mT4X"
      },
      "outputs": [],
      "execution_count": null
    },
    {
      "cell_type": "code",
      "source": [
        "import seaborn as sns\n",
        "import matplotlib.pyplot as plt\n",
        "\n",
        "plt.figure(figsize=(12, 6))\n",
        "sns.boxplot(x='airline', y='price', data=train_df)\n",
        "plt.xticks(rotation=45)\n",
        "plt.title(\"Ticket Price Distribution by Airline\")\n",
        "plt.show()"
      ],
      "metadata": {
        "trusted": true,
        "execution": {
          "iopub.status.busy": "2025-07-02T17:19:15.343453Z",
          "iopub.execute_input": "2025-07-02T17:19:15.343772Z",
          "iopub.status.idle": "2025-07-02T17:19:15.58223Z",
          "shell.execute_reply.started": "2025-07-02T17:19:15.343743Z",
          "shell.execute_reply": "2025-07-02T17:19:15.581367Z"
        },
        "id": "vOjG7mlxmT4X"
      },
      "outputs": [],
      "execution_count": null
    },
    {
      "cell_type": "code",
      "source": [
        "plt.figure(figsize=(6, 4))\n",
        "sns.boxplot(x='class', y='price', data=train_df, palette='Set2')\n",
        "plt.title(\"Price Variation by Travel Class\")\n",
        "plt.show()"
      ],
      "metadata": {
        "trusted": true,
        "execution": {
          "iopub.status.busy": "2025-07-02T17:19:15.583034Z",
          "iopub.execute_input": "2025-07-02T17:19:15.58331Z",
          "iopub.status.idle": "2025-07-02T17:19:15.755265Z",
          "shell.execute_reply.started": "2025-07-02T17:19:15.583289Z",
          "shell.execute_reply": "2025-07-02T17:19:15.7544Z"
        },
        "id": "qwEizsgJmT4X"
      },
      "outputs": [],
      "execution_count": null
    },
    {
      "cell_type": "code",
      "source": [
        "plt.figure(figsize=(8, 5))\n",
        "sns.boxplot(x='stops', y='price', data=train_df, palette='Set3')\n",
        "plt.title(\"Flight Price vs Number of Stops\")\n",
        "plt.show()"
      ],
      "metadata": {
        "trusted": true,
        "execution": {
          "iopub.status.busy": "2025-07-02T17:19:15.756246Z",
          "iopub.execute_input": "2025-07-02T17:19:15.756567Z",
          "iopub.status.idle": "2025-07-02T17:19:15.94376Z",
          "shell.execute_reply.started": "2025-07-02T17:19:15.756537Z",
          "shell.execute_reply": "2025-07-02T17:19:15.942855Z"
        },
        "id": "soydsczRmT4X"
      },
      "outputs": [],
      "execution_count": null
    },
    {
      "cell_type": "code",
      "source": [
        "# Group by days_left and calculate average price\n",
        "days_price = train_df.groupby('days_left')['price'].mean().reset_index()\n",
        "\n",
        "# Plot line chart\n",
        "import seaborn as sns\n",
        "import matplotlib.pyplot as plt\n",
        "\n",
        "plt.figure(figsize=(10, 5))\n",
        "sns.lineplot(x='days_left', y='price', data=days_price, marker='o', color='blue')\n",
        "plt.title(\"Days Left vs Average Ticket Price\")\n",
        "plt.xlabel(\"Days Left to Departure\")\n",
        "plt.ylabel(\"Average Price (₹)\")\n",
        "plt.grid(True)\n",
        "plt.tight_layout()\n",
        "plt.show()"
      ],
      "metadata": {
        "trusted": true,
        "execution": {
          "iopub.status.busy": "2025-07-02T17:19:15.944661Z",
          "iopub.execute_input": "2025-07-02T17:19:15.944959Z",
          "iopub.status.idle": "2025-07-02T17:19:16.173972Z",
          "shell.execute_reply.started": "2025-07-02T17:19:15.944935Z",
          "shell.execute_reply": "2025-07-02T17:19:16.173101Z"
        },
        "id": "uA_j6i36mT4Z"
      },
      "outputs": [],
      "execution_count": null
    },
    {
      "cell_type": "markdown",
      "source": [
        "# Scale Numerical features and Encode Categorical features"
      ],
      "metadata": {
        "id": "GCwvxV_PmT4a"
      }
    },
    {
      "cell_type": "code",
      "source": [
        "num_cols = X.select_dtypes(include=['int64', 'float64']).drop(columns='id', errors='ignore').columns\n",
        "cat_cols = X.select_dtypes(include=['object']).columns"
      ],
      "metadata": {
        "trusted": true,
        "execution": {
          "iopub.status.busy": "2025-07-02T17:19:16.174773Z",
          "iopub.execute_input": "2025-07-02T17:19:16.174988Z",
          "iopub.status.idle": "2025-07-02T17:19:16.191134Z",
          "shell.execute_reply.started": "2025-07-02T17:19:16.174971Z",
          "shell.execute_reply": "2025-07-02T17:19:16.190391Z"
        },
        "id": "oFEERMtfmT4a"
      },
      "outputs": [],
      "execution_count": null
    },
    {
      "cell_type": "code",
      "source": [
        "from sklearn.compose import ColumnTransformer\n",
        "from sklearn.preprocessing import StandardScaler, OneHotEncoder\n",
        "\n",
        "preprocessor = ColumnTransformer(transformers=[\n",
        "    ('num', StandardScaler(), num_cols),\n",
        "    ('cat', OneHotEncoder(handle_unknown='ignore'), cat_cols)\n",
        "], verbose_feature_names_out=False)"
      ],
      "metadata": {
        "trusted": true,
        "execution": {
          "iopub.status.busy": "2025-07-02T17:19:16.192228Z",
          "iopub.execute_input": "2025-07-02T17:19:16.192487Z",
          "iopub.status.idle": "2025-07-02T17:19:16.197464Z",
          "shell.execute_reply.started": "2025-07-02T17:19:16.192467Z",
          "shell.execute_reply": "2025-07-02T17:19:16.196576Z"
        },
        "id": "lQ0UQkHnmT4a"
      },
      "outputs": [],
      "execution_count": null
    },
    {
      "cell_type": "markdown",
      "source": [
        "# Model Building"
      ],
      "metadata": {
        "id": "Ait9YD0dmT4b"
      }
    },
    {
      "cell_type": "code",
      "source": [
        "from sklearn.model_selection import train_test_split, cross_val_score\n",
        "\n",
        "X = train_df_t.drop(['id'], axis=1)\n",
        "y = y_train\n",
        "\n",
        "X_train, X_val, y_train, y_val = train_test_split(X, y, test_size=0.2, random_state=42)"
      ],
      "metadata": {
        "trusted": true,
        "execution": {
          "iopub.status.busy": "2025-07-02T17:19:16.198426Z",
          "iopub.execute_input": "2025-07-02T17:19:16.19873Z",
          "iopub.status.idle": "2025-07-02T17:19:16.227563Z",
          "shell.execute_reply.started": "2025-07-02T17:19:16.198703Z",
          "shell.execute_reply": "2025-07-02T17:19:16.22648Z"
        },
        "id": "uPO7T7ElmT4b"
      },
      "outputs": [],
      "execution_count": null
    },
    {
      "cell_type": "markdown",
      "source": [
        "### 1. Linear Regression"
      ],
      "metadata": {
        "id": "1kM4p77PmT4c"
      }
    },
    {
      "cell_type": "code",
      "source": [
        "from sklearn.pipeline import Pipeline\n",
        "from sklearn.linear_model import LinearRegression\n",
        "from sklearn.metrics import r2_score\n",
        "\n",
        "pipeline_lr = Pipeline(steps=[\n",
        "    ('preprocessor', preprocessor),\n",
        "    ('model', LinearRegression())\n",
        "])\n",
        "\n",
        "pipeline_lr.fit(X, y)\n",
        "pred_lr = pipeline_lr.predict(X_val)\n",
        "score_lr = r2_score(y_val, pred_lr)\n",
        "print(f\"Linear Regression: R2 Score = {score_lr:.4f}\")"
      ],
      "metadata": {
        "trusted": true,
        "execution": {
          "iopub.status.busy": "2025-07-02T17:19:16.228527Z",
          "iopub.execute_input": "2025-07-02T17:19:16.228826Z",
          "iopub.status.idle": "2025-07-02T17:19:16.736317Z",
          "shell.execute_reply.started": "2025-07-02T17:19:16.228795Z",
          "shell.execute_reply": "2025-07-02T17:19:16.735439Z"
        },
        "id": "awvQojv6mT4c"
      },
      "outputs": [],
      "execution_count": null
    },
    {
      "cell_type": "markdown",
      "source": [
        "### 2.  Decision Tree Regressor"
      ],
      "metadata": {
        "id": "eDs-gFUemT4c"
      }
    },
    {
      "cell_type": "code",
      "source": [
        "from sklearn.tree import DecisionTreeRegressor\n",
        "\n",
        "pipeline_dt = Pipeline(steps=[\n",
        "    ('preprocessor', preprocessor),\n",
        "    ('model', DecisionTreeRegressor())\n",
        "])\n",
        "\n",
        "pipeline_dt.fit(X, y)\n",
        "pred_dt = pipeline_dt.predict(X_val)\n",
        "score_dt = r2_score(y_val, pred_dt)\n",
        "print(f\"Decision Tree: R2 Score = {score_dt:.4f}\")"
      ],
      "metadata": {
        "trusted": true,
        "execution": {
          "iopub.status.busy": "2025-07-02T17:19:16.737209Z",
          "iopub.execute_input": "2025-07-02T17:19:16.737469Z",
          "iopub.status.idle": "2025-07-02T17:19:21.085697Z",
          "shell.execute_reply.started": "2025-07-02T17:19:16.737449Z",
          "shell.execute_reply": "2025-07-02T17:19:21.084689Z"
        },
        "id": "pau4LimPmT4d"
      },
      "outputs": [],
      "execution_count": null
    },
    {
      "cell_type": "markdown",
      "source": [
        "### 3. K Neighbors Regressor"
      ],
      "metadata": {
        "id": "dwl9cEpPmT4d"
      }
    },
    {
      "cell_type": "code",
      "source": [
        "from sklearn.neighbors import KNeighborsRegressor\n",
        "\n",
        "pipeline_knn = Pipeline(steps=[\n",
        "    ('preprocessor', preprocessor),\n",
        "    ('model', KNeighborsRegressor())\n",
        "])\n",
        "\n",
        "pipeline_knn.fit(X, y)\n",
        "pred_knn = pipeline_knn.predict(X_val)\n",
        "score_knn = r2_score(y_val, pred_knn)\n",
        "print(f\"KNN Regressor: R2 Score = {score_knn:.4f}\")"
      ],
      "metadata": {
        "trusted": true,
        "execution": {
          "iopub.status.busy": "2025-07-02T17:19:21.086654Z",
          "iopub.execute_input": "2025-07-02T17:19:21.086907Z",
          "iopub.status.idle": "2025-07-02T17:19:40.347376Z",
          "shell.execute_reply.started": "2025-07-02T17:19:21.086883Z",
          "shell.execute_reply": "2025-07-02T17:19:40.346724Z"
        },
        "id": "PudQ-EPamT4e"
      },
      "outputs": [],
      "execution_count": null
    },
    {
      "cell_type": "markdown",
      "source": [
        "### 4. XGB Regressor"
      ],
      "metadata": {
        "id": "snUQk6KUmT4e"
      }
    },
    {
      "cell_type": "code",
      "source": [
        "from xgboost import XGBRegressor\n",
        "\n",
        "pipeline_xgb = Pipeline(steps=[\n",
        "    ('preprocessor', preprocessor),\n",
        "    ('model', XGBRegressor())\n",
        "])\n",
        "\n",
        "pipeline_xgb.fit(X, y)\n",
        "pred_xgb = pipeline_xgb.predict(X_val)\n",
        "score_xgb = r2_score(y_val, pred_xgb)\n",
        "print(f\"XGBoost: R2 Score = {score_xgb:.4f}\")"
      ],
      "metadata": {
        "trusted": true,
        "execution": {
          "iopub.status.busy": "2025-07-02T17:19:40.348038Z",
          "iopub.execute_input": "2025-07-02T17:19:40.3484Z",
          "iopub.status.idle": "2025-07-02T17:19:41.203124Z",
          "shell.execute_reply.started": "2025-07-02T17:19:40.348371Z",
          "shell.execute_reply": "2025-07-02T17:19:41.20176Z"
        },
        "id": "7euRw9tQmT4e"
      },
      "outputs": [],
      "execution_count": null
    },
    {
      "cell_type": "markdown",
      "source": [
        "## With Hyperparameter Tuning"
      ],
      "metadata": {
        "id": "XkyWQewVmT4f"
      }
    },
    {
      "cell_type": "code",
      "source": [
        "from sklearn.model_selection import RandomizedSearchCV\n",
        "from sklearn.pipeline import Pipeline\n",
        "from sklearn.metrics import r2_score\n",
        "\n",
        "# 30% sample for tuning\n",
        "X_sample = X.sample(frac=0.3, random_state=42)\n",
        "y_sample = y.loc[X_sample.index]"
      ],
      "metadata": {
        "trusted": true,
        "execution": {
          "iopub.status.busy": "2025-07-02T17:19:41.203675Z",
          "iopub.execute_input": "2025-07-02T17:19:41.203893Z",
          "iopub.status.idle": "2025-07-02T17:19:41.214684Z",
          "shell.execute_reply.started": "2025-07-02T17:19:41.203874Z",
          "shell.execute_reply": "2025-07-02T17:19:41.213736Z"
        },
        "id": "r6FvA65GmT4f"
      },
      "outputs": [],
      "execution_count": null
    },
    {
      "cell_type": "markdown",
      "source": [
        "### 5. Decision Tree Regressor with tuning"
      ],
      "metadata": {
        "id": "Quio6sBpmT4f"
      }
    },
    {
      "cell_type": "code",
      "source": [
        "from sklearn.tree import DecisionTreeRegressor\n",
        "\n",
        "pipe_dt = Pipeline([\n",
        "    ('preprocessor', preprocessor),\n",
        "    ('model', DecisionTreeRegressor())\n",
        "])\n",
        "\n",
        "params_dt = {\n",
        "    'model__max_depth': [3, 5, 10],\n",
        "    'model__min_samples_split': [2, 5]\n",
        "}\n",
        "\n",
        "grid_dt = RandomizedSearchCV(pipe_dt, params_dt, n_iter=5, cv=3, scoring='r2', n_jobs=-1)\n",
        "grid_dt.fit(X_sample, y_sample)\n",
        "\n",
        "print(\"Decision Tree Best:\", grid_dt.best_params_)\n",
        "print(\"Score (30% CV):\", grid_dt.best_score_)\n",
        "\n",
        "best_dt = grid_dt.best_estimator_\n",
        "best_dt.fit(X, y)"
      ],
      "metadata": {
        "trusted": true,
        "execution": {
          "iopub.status.busy": "2025-07-02T17:19:41.215654Z",
          "iopub.execute_input": "2025-07-02T17:19:41.215899Z",
          "iopub.status.idle": "2025-07-02T17:19:44.470912Z",
          "shell.execute_reply.started": "2025-07-02T17:19:41.215878Z",
          "shell.execute_reply": "2025-07-02T17:19:44.470061Z"
        },
        "id": "-CED6058mT4f"
      },
      "outputs": [],
      "execution_count": null
    },
    {
      "cell_type": "markdown",
      "source": [
        "### 6. Random Forest Regressor with tuning"
      ],
      "metadata": {
        "id": "2y-v8-RfmT4g"
      }
    },
    {
      "cell_type": "code",
      "source": [
        "from sklearn.ensemble import RandomForestRegressor\n",
        "\n",
        "pipe_rf = Pipeline([\n",
        "    ('preprocessor', preprocessor),\n",
        "    ('model', RandomForestRegressor(n_jobs=-1, random_state=42))\n",
        "])\n",
        "\n",
        "params_rf = {\n",
        "    'model__n_estimators': [10, 30],\n",
        "    'model__max_depth': [5, 10],\n",
        "    'model__min_samples_split': [5, 10]\n",
        "}\n",
        "\n",
        "grid_rf = RandomizedSearchCV(pipe_rf, params_rf, n_iter=5, cv=3, scoring='r2', n_jobs=-1)\n",
        "grid_rf.fit(X_sample, y_sample)\n",
        "\n",
        "print(\"Random Forest Best:\", grid_rf.best_params_)\n",
        "print(\"Score (30% CV):\", grid_rf.best_score_)\n",
        "\n",
        "best_rf = grid_rf.best_estimator_\n",
        "best_rf.fit(X, y)"
      ],
      "metadata": {
        "trusted": true,
        "execution": {
          "iopub.status.busy": "2025-07-02T17:19:44.472019Z",
          "iopub.execute_input": "2025-07-02T17:19:44.472381Z",
          "iopub.status.idle": "2025-07-02T17:19:58.058322Z",
          "shell.execute_reply.started": "2025-07-02T17:19:44.472352Z",
          "shell.execute_reply": "2025-07-02T17:19:58.057434Z"
        },
        "id": "HWr0lnPumT4h"
      },
      "outputs": [],
      "execution_count": null
    },
    {
      "cell_type": "markdown",
      "source": [
        "### 7. Gradient Boosting Regressor with tuning"
      ],
      "metadata": {
        "id": "bJ9HevKVmT4h"
      }
    },
    {
      "cell_type": "code",
      "source": [
        "from sklearn.ensemble import GradientBoostingRegressor\n",
        "\n",
        "pipe_gb = Pipeline([\n",
        "    ('preprocessor', preprocessor),\n",
        "    ('model', GradientBoostingRegressor())\n",
        "])\n",
        "\n",
        "params_gb = {\n",
        "    'model__n_estimators': [50, 100],\n",
        "    'model__learning_rate': [0.05, 0.1],\n",
        "    'model__max_depth': [3, 5]\n",
        "}\n",
        "\n",
        "grid_gb = RandomizedSearchCV(pipe_gb, params_gb, n_iter=5, cv=3, scoring='r2', n_jobs=-1)\n",
        "grid_gb.fit(X_sample, y_sample)\n",
        "\n",
        "print(\"Gradient Boosting Best:\", grid_gb.best_params_)\n",
        "print(\"Score (30% CV):\", grid_gb.best_score_)\n",
        "\n",
        "best_gb = grid_gb.best_estimator_\n",
        "best_gb.fit(X, y)"
      ],
      "metadata": {
        "trusted": true,
        "execution": {
          "iopub.status.busy": "2025-07-02T17:19:58.059409Z",
          "iopub.execute_input": "2025-07-02T17:19:58.059804Z",
          "iopub.status.idle": "2025-07-02T17:20:13.210747Z",
          "shell.execute_reply.started": "2025-07-02T17:19:58.059776Z",
          "shell.execute_reply": "2025-07-02T17:20:13.210041Z"
        },
        "id": "oE76xM9KmT4h"
      },
      "outputs": [],
      "execution_count": null
    },
    {
      "cell_type": "markdown",
      "source": [
        "### 8. Lasso Regression with tuning"
      ],
      "metadata": {
        "id": "nRFMvWK_mT4j"
      }
    },
    {
      "cell_type": "code",
      "source": [
        "from sklearn.linear_model import Lasso\n",
        "\n",
        "pipe_lasso = Pipeline([\n",
        "    ('preprocessor', preprocessor),\n",
        "    ('model', Lasso())\n",
        "])\n",
        "\n",
        "params_lasso = {\n",
        "    'model__alpha': [0.001, 0.01, 0.1, 1.0]\n",
        "}\n",
        "\n",
        "grid_lasso = RandomizedSearchCV(pipe_lasso, params_lasso, n_iter=5, cv=3, scoring='r2', n_jobs=-1)\n",
        "grid_lasso.fit(X_sample, y_sample)\n",
        "\n",
        "print(\"Lasso Best:\", grid_lasso.best_params_)\n",
        "print(\"Score (30% CV):\", grid_lasso.best_score_)\n",
        "\n",
        "best_lasso = grid_lasso.best_estimator_\n",
        "best_lasso.fit(X, y)"
      ],
      "metadata": {
        "trusted": true,
        "execution": {
          "iopub.status.busy": "2025-07-02T17:20:13.211535Z",
          "iopub.execute_input": "2025-07-02T17:20:13.211778Z",
          "iopub.status.idle": "2025-07-02T17:20:17.209968Z",
          "shell.execute_reply.started": "2025-07-02T17:20:13.211758Z",
          "shell.execute_reply": "2025-07-02T17:20:17.209099Z"
        },
        "id": "wkQMKXlcmT4j"
      },
      "outputs": [],
      "execution_count": null
    },
    {
      "cell_type": "markdown",
      "source": [
        "### 9. SVR with tuning"
      ],
      "metadata": {
        "id": "9WSB3V-RmT4l"
      }
    },
    {
      "cell_type": "code",
      "source": [
        "# from sklearn.svm import SVR\n",
        "\n",
        "# pipe_svr = Pipeline([\n",
        "#     ('preprocessor', preprocessor),\n",
        "#     ('model', SVR())\n",
        "# ])\n",
        "\n",
        "# params_svr = {\n",
        "#     'model__C': [1, 10],\n",
        "#     'model__kernel': ['linear', 'rbf']\n",
        "# }\n",
        "\n",
        "# grid_svr = RandomizedSearchCV(pipe_svr, params_svr, n_iter=5, cv=3, scoring='r2', n_jobs=-1)\n",
        "# grid_svr.fit(X_sample, y_sample)\n",
        "\n",
        "# print(\"SVR Best:\", grid_svr.best_params_)\n",
        "# print(\"Score (30% CV):\", grid_svr.best_score_)\n",
        "\n",
        "# best_svr = grid_svr.best_estimator_\n",
        "# best_svr.fit(X, y)"
      ],
      "metadata": {
        "trusted": true,
        "execution": {
          "iopub.status.busy": "2025-07-02T17:20:17.210682Z",
          "iopub.execute_input": "2025-07-02T17:20:17.210948Z",
          "iopub.status.idle": "2025-07-02T17:20:17.219712Z",
          "shell.execute_reply.started": "2025-07-02T17:20:17.210926Z",
          "shell.execute_reply": "2025-07-02T17:20:17.218772Z"
        },
        "id": "4AMJiGOYmT4m"
      },
      "outputs": [],
      "execution_count": null
    },
    {
      "cell_type": "markdown",
      "source": [
        "# Submiting Best Model"
      ],
      "metadata": {
        "id": "o6HHmiscmT4m"
      }
    },
    {
      "cell_type": "code",
      "source": [
        "from sklearn.tree import DecisionTreeRegressor\n",
        "\n",
        "pipeline_dt = Pipeline(steps=[\n",
        "    ('preprocessor', preprocessor),\n",
        "    ('model', DecisionTreeRegressor())\n",
        "])\n",
        "\n",
        "pipeline_dt.fit(X, y)\n",
        "pred_dt = pipeline_dt.predict(X_val)\n",
        "score_dt = r2_score(y_val, pred_dt)\n",
        "print(f\"Decision Tree: R2 Score = {score_dt:.4f}\")"
      ],
      "metadata": {
        "trusted": true,
        "execution": {
          "iopub.status.busy": "2025-07-02T17:20:17.221958Z",
          "iopub.execute_input": "2025-07-02T17:20:17.222331Z",
          "iopub.status.idle": "2025-07-02T17:20:21.592597Z",
          "shell.execute_reply.started": "2025-07-02T17:20:17.222303Z",
          "shell.execute_reply": "2025-07-02T17:20:21.591846Z"
        },
        "id": "oTsk5sQ-mT4m"
      },
      "outputs": [],
      "execution_count": null
    },
    {
      "cell_type": "code",
      "source": [
        "import pandas as pd\n",
        "\n",
        "# Predict (pipeline already includes preprocessor)\n",
        "y_pred_log = pipeline_dt.predict(test_df_t)\n",
        "\n",
        "# Inverse transform to get back original price\n",
        "y_pred_price = np.expm1(y_pred_log)\n",
        "\n",
        "# Create submission\n",
        "submission = pd.DataFrame({\n",
        "    'id': test_df['id'],\n",
        "    'price': y_pred_price\n",
        "})\n",
        "\n",
        "submission.to_csv('submission.csv', index=False)\n",
        "print(\"✅ Submission file created: submission.csv\")\n"
      ],
      "metadata": {
        "trusted": true,
        "execution": {
          "iopub.status.busy": "2025-07-02T17:20:21.593368Z",
          "iopub.execute_input": "2025-07-02T17:20:21.593583Z",
          "iopub.status.idle": "2025-07-02T17:20:21.660783Z",
          "shell.execute_reply.started": "2025-07-02T17:20:21.593566Z",
          "shell.execute_reply": "2025-07-02T17:20:21.659822Z"
        },
        "id": "QY8r5Km2mT4n"
      },
      "outputs": [],
      "execution_count": null
    }
  ]
}